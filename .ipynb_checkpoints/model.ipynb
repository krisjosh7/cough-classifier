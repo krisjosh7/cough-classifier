{
 "cells": [
  {
   "cell_type": "code",
   "execution_count": null,
   "metadata": {},
   "outputs": [],
   "source": []
  }
 ],
 "metadata": {
  "kernelspec": {
   "display_name": "Python 3.8.13 ('week1')",
   "language": "python",
   "name": "python3"
  },
  "language_info": {
   "name": "python",
   "version": "3.8.13"
  },
  "orig_nbformat": 4,
  "vscode": {
   "interpreter": {
    "hash": "fd14868cace42d0c493a65132c345204a2300d7045eeaed06b35c51760ede1c2"
   }
  }
 },
 "nbformat": 4,
 "nbformat_minor": 2
}
